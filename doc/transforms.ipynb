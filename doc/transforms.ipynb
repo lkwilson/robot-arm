{
 "cells": [
  {
   "cell_type": "markdown",
   "metadata": {},
   "source": [
    "This math models a six-arm robot, but generalized. The robot has a cartesian\n",
    "space, and each arm has its own, defined by some transformation of previous\n",
    "arms'.\n",
    "\n",
    "Lets start with a point in robot space: $\\bf{x}_0 \\in \\mathbb{R}^3$.\n",
    "\n",
    "The transform to arm space is 3 transforms:\n",
    "- a translation: $T_n$, constant.\n",
    "- a rotation: $R_n$, constant.\n",
    "- a state rotation: $R_z(\\theta_n)$, a function of $\\theta_n$, where $\\theta_n$ is the angle rotated\n",
    "clockwise about the z axis.\n",
    "\n",
    "Let $\\bf{x}_n$ denote $\\bf{x}_0$ in the nth arm's space:\n",
    "$$\n",
    "\\bf{x}_n = A_1(\\bf{x}_{n-1}; \\theta_n) = R_z(\\theta_n) R_n (\\bf{x}_{n-1} + T_n)\n",
    "$$\n",
    "\n",
    "Solving for $\\bf{x}_{n-1}$:\n",
    "\n",
    "$$\n",
    "\\bf{x}_{n-1} = R_n^{-1} R_z^{-1}(\\theta_n) \\bf{x}_n - T_n\n",
    "$$\n"
   ]
  }
 ],
 "metadata": {
  "interpreter": {
   "hash": "fb1c46ec5a045029fd00da321548c4bddc57e4cc25935ed8b056b44cabd42cf5"
  },
  "kernelspec": {
   "display_name": "Python 3.9.7 64-bit ('base': conda)",
   "language": "python",
   "name": "python3"
  },
  "language_info": {
   "name": "python",
   "version": "3.9.7"
  },
  "orig_nbformat": 4
 },
 "nbformat": 4,
 "nbformat_minor": 2
}
